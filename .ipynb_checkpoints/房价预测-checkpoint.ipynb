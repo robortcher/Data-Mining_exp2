{
 "cells": [
  {
   "cell_type": "code",
   "execution_count": 1,
   "metadata": {},
   "outputs": [],
   "source": [
    "import pandas as pd\n",
    "import numpy as np\n",
    "import matplotlib.pyplot as plt\n",
    "%matplotlib inline"
   ]
  },
  {
   "cell_type": "code",
   "execution_count": 2,
   "metadata": {},
   "outputs": [],
   "source": [
    "df_train=pd.read_csv('train.csv')\n",
    "df_test=pd.read_csv('test.csv')"
   ]
  },
  {
   "cell_type": "markdown",
   "metadata": {},
   "source": [
    "# 数据清洗\n"
   ]
  },
  {
   "cell_type": "code",
   "execution_count": 100,
   "metadata": {},
   "outputs": [
    {
     "data": {
      "text/plain": [
       "((1460, 81), (1459, 80))"
      ]
     },
     "execution_count": 100,
     "metadata": {},
     "output_type": "execute_result"
    }
   ],
   "source": [
    "df_train.shape,df_test.shape"
   ]
  },
  {
   "cell_type": "code",
   "execution_count": 3,
   "metadata": {},
   "outputs": [],
   "source": [
    "y_train=df_train.pop('SalePrice')  #删除并返回数据集中SalePrice标签列"
   ]
  },
  {
   "cell_type": "code",
   "execution_count": 4,
   "metadata": {},
   "outputs": [],
   "source": [
    "all_df=pd.concat((df_train,df_test),axis=0) #要处理的整体数据集"
   ]
  },
  {
   "cell_type": "code",
   "execution_count": 103,
   "metadata": {},
   "outputs": [
    {
     "data": {
      "text/plain": [
       "(2919, 80)"
      ]
     },
     "execution_count": 103,
     "metadata": {},
     "output_type": "execute_result"
    }
   ],
   "source": [
    "all_df.shape"
   ]
  },
  {
   "cell_type": "markdown",
   "metadata": {},
   "source": [
    "### *缺失值处理*"
   ]
  },
  {
   "cell_type": "code",
   "execution_count": 5,
   "metadata": {},
   "outputs": [],
   "source": [
    "total=all_df.isnull().sum().sort_values(ascending=False)  #每列缺失数量"
   ]
  },
  {
   "cell_type": "code",
   "execution_count": 6,
   "metadata": {},
   "outputs": [],
   "source": [
    "percent=(all_df.isnull().sum()/len(all_df)).sort_values(ascending=False) #每列缺失率"
   ]
  },
  {
   "cell_type": "code",
   "execution_count": 9,
   "metadata": {
    "collapsed": true
   },
   "outputs": [
    {
     "data": {
      "text/html": [
       "<div>\n",
       "<style scoped>\n",
       "    .dataframe tbody tr th:only-of-type {\n",
       "        vertical-align: middle;\n",
       "    }\n",
       "\n",
       "    .dataframe tbody tr th {\n",
       "        vertical-align: top;\n",
       "    }\n",
       "\n",
       "    .dataframe thead th {\n",
       "        text-align: right;\n",
       "    }\n",
       "</style>\n",
       "<table border=\"1\" class=\"dataframe\">\n",
       "  <thead>\n",
       "    <tr style=\"text-align: right;\">\n",
       "      <th></th>\n",
       "      <th>total</th>\n",
       "      <th>percent</th>\n",
       "    </tr>\n",
       "  </thead>\n",
       "  <tbody>\n",
       "    <tr>\n",
       "      <th>PoolQC</th>\n",
       "      <td>2909</td>\n",
       "      <td>0.996574</td>\n",
       "    </tr>\n",
       "    <tr>\n",
       "      <th>MiscFeature</th>\n",
       "      <td>2814</td>\n",
       "      <td>0.964029</td>\n",
       "    </tr>\n",
       "    <tr>\n",
       "      <th>Alley</th>\n",
       "      <td>2721</td>\n",
       "      <td>0.932169</td>\n",
       "    </tr>\n",
       "    <tr>\n",
       "      <th>Fence</th>\n",
       "      <td>2348</td>\n",
       "      <td>0.804385</td>\n",
       "    </tr>\n",
       "    <tr>\n",
       "      <th>FireplaceQu</th>\n",
       "      <td>1420</td>\n",
       "      <td>0.486468</td>\n",
       "    </tr>\n",
       "    <tr>\n",
       "      <th>LotFrontage</th>\n",
       "      <td>486</td>\n",
       "      <td>0.166495</td>\n",
       "    </tr>\n",
       "    <tr>\n",
       "      <th>GarageCond</th>\n",
       "      <td>159</td>\n",
       "      <td>0.054471</td>\n",
       "    </tr>\n",
       "    <tr>\n",
       "      <th>GarageQual</th>\n",
       "      <td>159</td>\n",
       "      <td>0.054471</td>\n",
       "    </tr>\n",
       "    <tr>\n",
       "      <th>GarageYrBlt</th>\n",
       "      <td>159</td>\n",
       "      <td>0.054471</td>\n",
       "    </tr>\n",
       "    <tr>\n",
       "      <th>GarageFinish</th>\n",
       "      <td>159</td>\n",
       "      <td>0.054471</td>\n",
       "    </tr>\n",
       "    <tr>\n",
       "      <th>GarageType</th>\n",
       "      <td>157</td>\n",
       "      <td>0.053786</td>\n",
       "    </tr>\n",
       "    <tr>\n",
       "      <th>BsmtCond</th>\n",
       "      <td>82</td>\n",
       "      <td>0.028092</td>\n",
       "    </tr>\n",
       "    <tr>\n",
       "      <th>BsmtExposure</th>\n",
       "      <td>82</td>\n",
       "      <td>0.028092</td>\n",
       "    </tr>\n",
       "    <tr>\n",
       "      <th>BsmtQual</th>\n",
       "      <td>81</td>\n",
       "      <td>0.027749</td>\n",
       "    </tr>\n",
       "    <tr>\n",
       "      <th>BsmtFinType2</th>\n",
       "      <td>80</td>\n",
       "      <td>0.027407</td>\n",
       "    </tr>\n",
       "    <tr>\n",
       "      <th>BsmtFinType1</th>\n",
       "      <td>79</td>\n",
       "      <td>0.027064</td>\n",
       "    </tr>\n",
       "    <tr>\n",
       "      <th>MasVnrType</th>\n",
       "      <td>24</td>\n",
       "      <td>0.008222</td>\n",
       "    </tr>\n",
       "    <tr>\n",
       "      <th>MasVnrArea</th>\n",
       "      <td>23</td>\n",
       "      <td>0.007879</td>\n",
       "    </tr>\n",
       "    <tr>\n",
       "      <th>MSZoning</th>\n",
       "      <td>4</td>\n",
       "      <td>0.001370</td>\n",
       "    </tr>\n",
       "    <tr>\n",
       "      <th>BsmtHalfBath</th>\n",
       "      <td>2</td>\n",
       "      <td>0.000685</td>\n",
       "    </tr>\n",
       "    <tr>\n",
       "      <th>Utilities</th>\n",
       "      <td>2</td>\n",
       "      <td>0.000685</td>\n",
       "    </tr>\n",
       "    <tr>\n",
       "      <th>Functional</th>\n",
       "      <td>2</td>\n",
       "      <td>0.000685</td>\n",
       "    </tr>\n",
       "    <tr>\n",
       "      <th>BsmtFullBath</th>\n",
       "      <td>2</td>\n",
       "      <td>0.000685</td>\n",
       "    </tr>\n",
       "    <tr>\n",
       "      <th>BsmtFinSF1</th>\n",
       "      <td>1</td>\n",
       "      <td>0.000343</td>\n",
       "    </tr>\n",
       "    <tr>\n",
       "      <th>Exterior1st</th>\n",
       "      <td>1</td>\n",
       "      <td>0.000343</td>\n",
       "    </tr>\n",
       "    <tr>\n",
       "      <th>Exterior2nd</th>\n",
       "      <td>1</td>\n",
       "      <td>0.000343</td>\n",
       "    </tr>\n",
       "    <tr>\n",
       "      <th>BsmtFinSF2</th>\n",
       "      <td>1</td>\n",
       "      <td>0.000343</td>\n",
       "    </tr>\n",
       "    <tr>\n",
       "      <th>BsmtUnfSF</th>\n",
       "      <td>1</td>\n",
       "      <td>0.000343</td>\n",
       "    </tr>\n",
       "    <tr>\n",
       "      <th>TotalBsmtSF</th>\n",
       "      <td>1</td>\n",
       "      <td>0.000343</td>\n",
       "    </tr>\n",
       "    <tr>\n",
       "      <th>SaleType</th>\n",
       "      <td>1</td>\n",
       "      <td>0.000343</td>\n",
       "    </tr>\n",
       "    <tr>\n",
       "      <th>...</th>\n",
       "      <td>...</td>\n",
       "      <td>...</td>\n",
       "    </tr>\n",
       "    <tr>\n",
       "      <th>YearBuilt</th>\n",
       "      <td>0</td>\n",
       "      <td>0.000000</td>\n",
       "    </tr>\n",
       "    <tr>\n",
       "      <th>OverallCond</th>\n",
       "      <td>0</td>\n",
       "      <td>0.000000</td>\n",
       "    </tr>\n",
       "    <tr>\n",
       "      <th>SaleCondition</th>\n",
       "      <td>0</td>\n",
       "      <td>0.000000</td>\n",
       "    </tr>\n",
       "    <tr>\n",
       "      <th>Heating</th>\n",
       "      <td>0</td>\n",
       "      <td>0.000000</td>\n",
       "    </tr>\n",
       "    <tr>\n",
       "      <th>ExterQual</th>\n",
       "      <td>0</td>\n",
       "      <td>0.000000</td>\n",
       "    </tr>\n",
       "    <tr>\n",
       "      <th>ExterCond</th>\n",
       "      <td>0</td>\n",
       "      <td>0.000000</td>\n",
       "    </tr>\n",
       "    <tr>\n",
       "      <th>YrSold</th>\n",
       "      <td>0</td>\n",
       "      <td>0.000000</td>\n",
       "    </tr>\n",
       "    <tr>\n",
       "      <th>MoSold</th>\n",
       "      <td>0</td>\n",
       "      <td>0.000000</td>\n",
       "    </tr>\n",
       "    <tr>\n",
       "      <th>MiscVal</th>\n",
       "      <td>0</td>\n",
       "      <td>0.000000</td>\n",
       "    </tr>\n",
       "    <tr>\n",
       "      <th>PoolArea</th>\n",
       "      <td>0</td>\n",
       "      <td>0.000000</td>\n",
       "    </tr>\n",
       "    <tr>\n",
       "      <th>ScreenPorch</th>\n",
       "      <td>0</td>\n",
       "      <td>0.000000</td>\n",
       "    </tr>\n",
       "    <tr>\n",
       "      <th>3SsnPorch</th>\n",
       "      <td>0</td>\n",
       "      <td>0.000000</td>\n",
       "    </tr>\n",
       "    <tr>\n",
       "      <th>EnclosedPorch</th>\n",
       "      <td>0</td>\n",
       "      <td>0.000000</td>\n",
       "    </tr>\n",
       "    <tr>\n",
       "      <th>OpenPorchSF</th>\n",
       "      <td>0</td>\n",
       "      <td>0.000000</td>\n",
       "    </tr>\n",
       "    <tr>\n",
       "      <th>WoodDeckSF</th>\n",
       "      <td>0</td>\n",
       "      <td>0.000000</td>\n",
       "    </tr>\n",
       "    <tr>\n",
       "      <th>PavedDrive</th>\n",
       "      <td>0</td>\n",
       "      <td>0.000000</td>\n",
       "    </tr>\n",
       "    <tr>\n",
       "      <th>Fireplaces</th>\n",
       "      <td>0</td>\n",
       "      <td>0.000000</td>\n",
       "    </tr>\n",
       "    <tr>\n",
       "      <th>TotRmsAbvGrd</th>\n",
       "      <td>0</td>\n",
       "      <td>0.000000</td>\n",
       "    </tr>\n",
       "    <tr>\n",
       "      <th>KitchenAbvGr</th>\n",
       "      <td>0</td>\n",
       "      <td>0.000000</td>\n",
       "    </tr>\n",
       "    <tr>\n",
       "      <th>BedroomAbvGr</th>\n",
       "      <td>0</td>\n",
       "      <td>0.000000</td>\n",
       "    </tr>\n",
       "    <tr>\n",
       "      <th>HalfBath</th>\n",
       "      <td>0</td>\n",
       "      <td>0.000000</td>\n",
       "    </tr>\n",
       "    <tr>\n",
       "      <th>FullBath</th>\n",
       "      <td>0</td>\n",
       "      <td>0.000000</td>\n",
       "    </tr>\n",
       "    <tr>\n",
       "      <th>GrLivArea</th>\n",
       "      <td>0</td>\n",
       "      <td>0.000000</td>\n",
       "    </tr>\n",
       "    <tr>\n",
       "      <th>LowQualFinSF</th>\n",
       "      <td>0</td>\n",
       "      <td>0.000000</td>\n",
       "    </tr>\n",
       "    <tr>\n",
       "      <th>2ndFlrSF</th>\n",
       "      <td>0</td>\n",
       "      <td>0.000000</td>\n",
       "    </tr>\n",
       "    <tr>\n",
       "      <th>1stFlrSF</th>\n",
       "      <td>0</td>\n",
       "      <td>0.000000</td>\n",
       "    </tr>\n",
       "    <tr>\n",
       "      <th>CentralAir</th>\n",
       "      <td>0</td>\n",
       "      <td>0.000000</td>\n",
       "    </tr>\n",
       "    <tr>\n",
       "      <th>HeatingQC</th>\n",
       "      <td>0</td>\n",
       "      <td>0.000000</td>\n",
       "    </tr>\n",
       "    <tr>\n",
       "      <th>Foundation</th>\n",
       "      <td>0</td>\n",
       "      <td>0.000000</td>\n",
       "    </tr>\n",
       "    <tr>\n",
       "      <th>Id</th>\n",
       "      <td>0</td>\n",
       "      <td>0.000000</td>\n",
       "    </tr>\n",
       "  </tbody>\n",
       "</table>\n",
       "<p>80 rows × 2 columns</p>\n",
       "</div>"
      ],
      "text/plain": [
       "               total   percent\n",
       "PoolQC          2909  0.996574\n",
       "MiscFeature     2814  0.964029\n",
       "Alley           2721  0.932169\n",
       "Fence           2348  0.804385\n",
       "FireplaceQu     1420  0.486468\n",
       "LotFrontage      486  0.166495\n",
       "GarageCond       159  0.054471\n",
       "GarageQual       159  0.054471\n",
       "GarageYrBlt      159  0.054471\n",
       "GarageFinish     159  0.054471\n",
       "GarageType       157  0.053786\n",
       "BsmtCond          82  0.028092\n",
       "BsmtExposure      82  0.028092\n",
       "BsmtQual          81  0.027749\n",
       "BsmtFinType2      80  0.027407\n",
       "BsmtFinType1      79  0.027064\n",
       "MasVnrType        24  0.008222\n",
       "MasVnrArea        23  0.007879\n",
       "MSZoning           4  0.001370\n",
       "BsmtHalfBath       2  0.000685\n",
       "Utilities          2  0.000685\n",
       "Functional         2  0.000685\n",
       "BsmtFullBath       2  0.000685\n",
       "BsmtFinSF1         1  0.000343\n",
       "Exterior1st        1  0.000343\n",
       "Exterior2nd        1  0.000343\n",
       "BsmtFinSF2         1  0.000343\n",
       "BsmtUnfSF          1  0.000343\n",
       "TotalBsmtSF        1  0.000343\n",
       "SaleType           1  0.000343\n",
       "...              ...       ...\n",
       "YearBuilt          0  0.000000\n",
       "OverallCond        0  0.000000\n",
       "SaleCondition      0  0.000000\n",
       "Heating            0  0.000000\n",
       "ExterQual          0  0.000000\n",
       "ExterCond          0  0.000000\n",
       "YrSold             0  0.000000\n",
       "MoSold             0  0.000000\n",
       "MiscVal            0  0.000000\n",
       "PoolArea           0  0.000000\n",
       "ScreenPorch        0  0.000000\n",
       "3SsnPorch          0  0.000000\n",
       "EnclosedPorch      0  0.000000\n",
       "OpenPorchSF        0  0.000000\n",
       "WoodDeckSF         0  0.000000\n",
       "PavedDrive         0  0.000000\n",
       "Fireplaces         0  0.000000\n",
       "TotRmsAbvGrd       0  0.000000\n",
       "KitchenAbvGr       0  0.000000\n",
       "BedroomAbvGr       0  0.000000\n",
       "HalfBath           0  0.000000\n",
       "FullBath           0  0.000000\n",
       "GrLivArea          0  0.000000\n",
       "LowQualFinSF       0  0.000000\n",
       "2ndFlrSF           0  0.000000\n",
       "1stFlrSF           0  0.000000\n",
       "CentralAir         0  0.000000\n",
       "HeatingQC          0  0.000000\n",
       "Foundation         0  0.000000\n",
       "Id                 0  0.000000\n",
       "\n",
       "[80 rows x 2 columns]"
      ]
     },
     "execution_count": 9,
     "metadata": {},
     "output_type": "execute_result"
    }
   ],
   "source": [
    "miss_data=pd.concat([total,percent],axis=1,keys=['total','percent'])\n",
    "miss_data"
   ]
  },
  {
   "cell_type": "markdown",
   "metadata": {},
   "source": [
    "##### 1.除去缺失率达40%以上的 (不除去的话，补齐数据误差偏大)"
   ]
  },
  {
   "cell_type": "code",
   "execution_count": 10,
   "metadata": {},
   "outputs": [],
   "source": [
    "all_df=all_df.drop(miss_data[miss_data['percent']>0.4].index,axis=1)"
   ]
  },
  {
   "cell_type": "code",
   "execution_count": 11,
   "metadata": {},
   "outputs": [
    {
     "data": {
      "text/plain": [
       "(2919, 75)"
      ]
     },
     "execution_count": 11,
     "metadata": {},
     "output_type": "execute_result"
    }
   ],
   "source": [
    "all_df.shape"
   ]
  },
  {
   "cell_type": "markdown",
   "metadata": {},
   "source": [
    "##### 2.由于有些房子没有车库，造成车库相关的属性缺失，对于这种情况，我们有missing填充，同时对于车库建造时间的缺失，我们用1900填充，表示车库是年久的，使其变得不重要。"
   ]
  },
  {
   "cell_type": "code",
   "execution_count": 12,
   "metadata": {},
   "outputs": [],
   "source": [
    "garage_obj=['GarageType','GarageFinish','GarageQual','GarageCond']\n",
    "for garage in garage_obj:\n",
    "    all_df[garage].fillna('missing',inplace=True)"
   ]
  },
  {
   "cell_type": "code",
   "execution_count": 13,
   "metadata": {},
   "outputs": [
    {
     "data": {
      "text/plain": [
       "GarageType      0\n",
       "GarageFinish    0\n",
       "GarageQual      0\n",
       "GarageCond      0\n",
       "dtype: int64"
      ]
     },
     "execution_count": 13,
     "metadata": {},
     "output_type": "execute_result"
    }
   ],
   "source": [
    "all_df[garage_obj].isnull().sum()"
   ]
  },
  {
   "cell_type": "code",
   "execution_count": 14,
   "metadata": {},
   "outputs": [
    {
     "data": {
      "text/plain": [
       "array(['Attchd', 'Detchd', 'BuiltIn', 'CarPort', 'missing', 'Basment',\n",
       "       '2Types'], dtype=object)"
      ]
     },
     "execution_count": 14,
     "metadata": {},
     "output_type": "execute_result"
    }
   ],
   "source": [
    "all_df['GarageType'].unique()  #missing标签已经填入"
   ]
  },
  {
   "cell_type": "code",
   "execution_count": 15,
   "metadata": {},
   "outputs": [],
   "source": [
    "all_df['GarageYrBlt'].fillna(1900.,inplace=True) #把1900标签填入空缺处表示年代久远"
   ]
  },
  {
   "cell_type": "markdown",
   "metadata": {},
   "source": [
    "#### *3.装修类中，装修类型为空的表示没装修过，用missing表示；装修面积为0；*"
   ]
  },
  {
   "cell_type": "code",
   "execution_count": 16,
   "metadata": {},
   "outputs": [],
   "source": [
    "all_df['MasVnrType'].fillna('missing',inplace=True)  #用missing标签表示没装修过\n",
    "all_df['MasVnrArea'].fillna(0,inplace=True)   #用0表示没装修过的装修面积"
   ]
  },
  {
   "cell_type": "code",
   "execution_count": 17,
   "metadata": {
    "collapsed": true
   },
   "outputs": [
    {
     "data": {
      "text/plain": [
       "LotFrontage      0.166495\n",
       "BsmtCond         0.028092\n",
       "BsmtExposure     0.028092\n",
       "BsmtQual         0.027749\n",
       "BsmtFinType2     0.027407\n",
       "BsmtFinType1     0.027064\n",
       "MSZoning         0.001370\n",
       "Functional       0.000685\n",
       "BsmtFullBath     0.000685\n",
       "BsmtHalfBath     0.000685\n",
       "Utilities        0.000685\n",
       "BsmtFinSF1       0.000343\n",
       "BsmtFinSF2       0.000343\n",
       "BsmtUnfSF        0.000343\n",
       "SaleType         0.000343\n",
       "Electrical       0.000343\n",
       "Exterior2nd      0.000343\n",
       "Exterior1st      0.000343\n",
       "TotalBsmtSF      0.000343\n",
       "KitchenQual      0.000343\n",
       "GarageCars       0.000343\n",
       "GarageArea       0.000343\n",
       "Neighborhood     0.000000\n",
       "MSSubClass       0.000000\n",
       "LotArea          0.000000\n",
       "Street           0.000000\n",
       "LotShape         0.000000\n",
       "LandContour      0.000000\n",
       "LotConfig        0.000000\n",
       "LandSlope        0.000000\n",
       "                   ...   \n",
       "SaleCondition    0.000000\n",
       "Heating          0.000000\n",
       "GarageFinish     0.000000\n",
       "YrSold           0.000000\n",
       "MoSold           0.000000\n",
       "MiscVal          0.000000\n",
       "PoolArea         0.000000\n",
       "ScreenPorch      0.000000\n",
       "3SsnPorch        0.000000\n",
       "EnclosedPorch    0.000000\n",
       "OpenPorchSF      0.000000\n",
       "WoodDeckSF       0.000000\n",
       "PavedDrive       0.000000\n",
       "GarageCond       0.000000\n",
       "GarageQual       0.000000\n",
       "GarageYrBlt      0.000000\n",
       "HeatingQC        0.000000\n",
       "GarageType       0.000000\n",
       "Fireplaces       0.000000\n",
       "TotRmsAbvGrd     0.000000\n",
       "KitchenAbvGr     0.000000\n",
       "BedroomAbvGr     0.000000\n",
       "HalfBath         0.000000\n",
       "FullBath         0.000000\n",
       "GrLivArea        0.000000\n",
       "LowQualFinSF     0.000000\n",
       "2ndFlrSF         0.000000\n",
       "1stFlrSF         0.000000\n",
       "CentralAir       0.000000\n",
       "Id               0.000000\n",
       "Length: 75, dtype: float64"
      ]
     },
     "execution_count": 17,
     "metadata": {},
     "output_type": "execute_result"
    }
   ],
   "source": [
    "(all_df.isnull().sum()/len(all_df)).sort_values(ascending=False) #再次查看数据缺失率，最高为0.16，是LotFrontage列"
   ]
  },
  {
   "cell_type": "code",
   "execution_count": 18,
   "metadata": {
    "scrolled": true
   },
   "outputs": [
    {
     "data": {
      "text/plain": [
       "[<matplotlib.lines.Line2D at 0x139073c8e10>]"
      ]
     },
     "execution_count": 18,
     "metadata": {},
     "output_type": "execute_result"
    },
    {
     "data": {
      "image/png": "[encoded data removed]",
      "text/plain": [
       "<matplotlib.figure.Figure at 0x13907305208>"
      ]
     },
     "metadata": {},
     "output_type": "display_data"
    }
   ],
   "source": [
    "plt.figure(figsize=(16,6))       #从图中看出LotFrontage分布较均匀，可以用均值补齐缺失值，\n",
    "plt.plot(all_df['Id'],all_df['LotFrontage'])"
   ]
  },
  {
   "cell_type": "code",
   "execution_count": 19,
   "metadata": {},
   "outputs": [],
   "source": [
    "all_df['LotFrontage'].fillna(all_df['LotFrontage'].mean(),inplace=True) "
   ]
  },
  {
   "cell_type": "code",
   "execution_count": 20,
   "metadata": {},
   "outputs": [],
   "source": [
    "#还有部分少量的缺失值，不是很重要，可以用one-hotd转变离散值，然后均值补齐\n",
    "all_dummies_df=pd.get_dummies(all_df)"
   ]
  },
  {
   "cell_type": "code",
   "execution_count": 21,
   "metadata": {},
   "outputs": [
    {
     "data": {
      "text/plain": [
       "0"
      ]
     },
     "execution_count": 21,
     "metadata": {},
     "output_type": "execute_result"
    }
   ],
   "source": [
    "mean_col=all_dummies_df.mean()\n",
    "all_dummies_df.fillna(mean_col,inplace=True)\n",
    "all_dummies_df.isnull().sum().sum()         #缺失值处理完成"
   ]
  },
  {
   "cell_type": "markdown",
   "metadata": {},
   "source": [
    "###  *数值转换*"
   ]
  },
  {
   "cell_type": "code",
   "execution_count": 22,
   "metadata": {},
   "outputs": [
    {
     "data": {
      "text/plain": [
       "(Index(['MSSubClass', 'LotArea', 'OverallQual', 'OverallCond', 'YearBuilt',\n",
       "        'YearRemodAdd', '1stFlrSF', '2ndFlrSF', 'LowQualFinSF', 'GrLivArea',\n",
       "        'FullBath', 'HalfBath', 'BedroomAbvGr', 'KitchenAbvGr', 'TotRmsAbvGrd',\n",
       "        'Fireplaces', 'WoodDeckSF', 'OpenPorchSF', 'EnclosedPorch', '3SsnPorch',\n",
       "        'ScreenPorch', 'PoolArea', 'MiscVal', 'MoSold', 'YrSold'],\n",
       "       dtype='object'),\n",
       " Index(['LotFrontage', 'MasVnrArea', 'BsmtFinSF1', 'BsmtFinSF2', 'BsmtUnfSF',\n",
       "        'TotalBsmtSF', 'BsmtFullBath', 'BsmtHalfBath', 'GarageYrBlt',\n",
       "        'GarageCars', 'GarageArea'],\n",
       "       dtype='object'))"
      ]
     },
     "execution_count": 22,
     "metadata": {},
     "output_type": "execute_result"
    }
   ],
   "source": [
    "#找出类型为数值的所有列，进行标准化处理\n",
    "all_dummies_df['Id']=all_dummies_df['Id'].astype(str)\n",
    "a=all_dummies_df.columns[all_dummies_df.dtypes=='int64']\n",
    "b=all_dummies_df.columns[all_dummies_df.dtypes=='float64']\n",
    "a,b"
   ]
  },
  {
   "cell_type": "code",
   "execution_count": 23,
   "metadata": {},
   "outputs": [],
   "source": [
    "a_mean=all_dummies_df.loc[:,a].mean()\n",
    "a_std=all_dummies_df.loc[:,a].std()\n",
    "all_dummies_df.loc[:,a]=(all_dummies_df.loc[:,a]-a_mean)/a_std\n",
    "b_mean=all_dummies_df.loc[:,b].mean()\n",
    "b_std=all_dummies_df.loc[:,b].std()\n",
    "all_dummies_df.loc[:,b]=(all_dummies_df.loc[:,b]-b_mean)/b_std"
   ]
  },
  {
   "cell_type": "code",
   "execution_count": 24,
   "metadata": {},
   "outputs": [
    {
     "data": {
      "text/html": [
       "<div>\n",
       "<style scoped>\n",
       "    .dataframe tbody tr th:only-of-type {\n",
       "        vertical-align: middle;\n",
       "    }\n",
       "\n",
       "    .dataframe tbody tr th {\n",
       "        vertical-align: top;\n",
       "    }\n",
       "\n",
       "    .dataframe thead th {\n",
       "        text-align: right;\n",
       "    }\n",
       "</style>\n",
       "<table border=\"1\" class=\"dataframe\">\n",
       "  <thead>\n",
       "    <tr style=\"text-align: right;\">\n",
       "      <th></th>\n",
       "      <th>Id</th>\n",
       "      <th>MSSubClass</th>\n",
       "      <th>LotFrontage</th>\n",
       "      <th>LotArea</th>\n",
       "      <th>OverallQual</th>\n",
       "      <th>OverallCond</th>\n",
       "      <th>YearBuilt</th>\n",
       "      <th>YearRemodAdd</th>\n",
       "      <th>MasVnrArea</th>\n",
       "      <th>BsmtFinSF1</th>\n",
       "      <th>...</th>\n",
       "      <th>SaleType_ConLw</th>\n",
       "      <th>SaleType_New</th>\n",
       "      <th>SaleType_Oth</th>\n",
       "      <th>SaleType_WD</th>\n",
       "      <th>SaleCondition_Abnorml</th>\n",
       "      <th>SaleCondition_AdjLand</th>\n",
       "      <th>SaleCondition_Alloca</th>\n",
       "      <th>SaleCondition_Family</th>\n",
       "      <th>SaleCondition_Normal</th>\n",
       "      <th>SaleCondition_Partial</th>\n",
       "    </tr>\n",
       "  </thead>\n",
       "  <tbody>\n",
       "    <tr>\n",
       "      <th>0</th>\n",
       "      <td>1</td>\n",
       "      <td>0.067320</td>\n",
       "      <td>-0.202033</td>\n",
       "      <td>-0.217841</td>\n",
       "      <td>0.646073</td>\n",
       "      <td>-0.507197</td>\n",
       "      <td>1.046078</td>\n",
       "      <td>0.896679</td>\n",
       "      <td>0.528944</td>\n",
       "      <td>0.580807</td>\n",
       "      <td>...</td>\n",
       "      <td>0</td>\n",
       "      <td>0</td>\n",
       "      <td>0</td>\n",
       "      <td>1</td>\n",
       "      <td>0</td>\n",
       "      <td>0</td>\n",
       "      <td>0</td>\n",
       "      <td>0</td>\n",
       "      <td>1</td>\n",
       "      <td>0</td>\n",
       "    </tr>\n",
       "    <tr>\n",
       "      <th>1</th>\n",
       "      <td>2</td>\n",
       "      <td>-0.873466</td>\n",
       "      <td>0.501785</td>\n",
       "      <td>-0.072032</td>\n",
       "      <td>-0.063174</td>\n",
       "      <td>2.187904</td>\n",
       "      <td>0.154737</td>\n",
       "      <td>-0.395536</td>\n",
       "      <td>-0.566919</td>\n",
       "      <td>1.177910</td>\n",
       "      <td>...</td>\n",
       "      <td>0</td>\n",
       "      <td>0</td>\n",
       "      <td>0</td>\n",
       "      <td>1</td>\n",
       "      <td>0</td>\n",
       "      <td>0</td>\n",
       "      <td>0</td>\n",
       "      <td>0</td>\n",
       "      <td>1</td>\n",
       "      <td>0</td>\n",
       "    </tr>\n",
       "    <tr>\n",
       "      <th>2</th>\n",
       "      <td>3</td>\n",
       "      <td>0.067320</td>\n",
       "      <td>-0.061269</td>\n",
       "      <td>0.137173</td>\n",
       "      <td>0.646073</td>\n",
       "      <td>-0.507197</td>\n",
       "      <td>0.980053</td>\n",
       "      <td>0.848819</td>\n",
       "      <td>0.338845</td>\n",
       "      <td>0.097856</td>\n",
       "      <td>...</td>\n",
       "      <td>0</td>\n",
       "      <td>0</td>\n",
       "      <td>0</td>\n",
       "      <td>1</td>\n",
       "      <td>0</td>\n",
       "      <td>0</td>\n",
       "      <td>0</td>\n",
       "      <td>0</td>\n",
       "      <td>1</td>\n",
       "      <td>0</td>\n",
       "    </tr>\n",
       "    <tr>\n",
       "      <th>3</th>\n",
       "      <td>4</td>\n",
       "      <td>0.302516</td>\n",
       "      <td>-0.436639</td>\n",
       "      <td>-0.078371</td>\n",
       "      <td>0.646073</td>\n",
       "      <td>-0.507197</td>\n",
       "      <td>-1.859033</td>\n",
       "      <td>-0.682695</td>\n",
       "      <td>-0.566919</td>\n",
       "      <td>-0.494856</td>\n",
       "      <td>...</td>\n",
       "      <td>0</td>\n",
       "      <td>0</td>\n",
       "      <td>0</td>\n",
       "      <td>1</td>\n",
       "      <td>1</td>\n",
       "      <td>0</td>\n",
       "      <td>0</td>\n",
       "      <td>0</td>\n",
       "      <td>0</td>\n",
       "      <td>0</td>\n",
       "    </tr>\n",
       "    <tr>\n",
       "      <th>4</th>\n",
       "      <td>5</td>\n",
       "      <td>0.067320</td>\n",
       "      <td>0.689469</td>\n",
       "      <td>0.518814</td>\n",
       "      <td>1.355319</td>\n",
       "      <td>-0.507197</td>\n",
       "      <td>0.947040</td>\n",
       "      <td>0.753100</td>\n",
       "      <td>1.389978</td>\n",
       "      <td>0.468851</td>\n",
       "      <td>...</td>\n",
       "      <td>0</td>\n",
       "      <td>0</td>\n",
       "      <td>0</td>\n",
       "      <td>1</td>\n",
       "      <td>0</td>\n",
       "      <td>0</td>\n",
       "      <td>0</td>\n",
       "      <td>0</td>\n",
       "      <td>1</td>\n",
       "      <td>0</td>\n",
       "    </tr>\n",
       "  </tbody>\n",
       "</table>\n",
       "<p>5 rows × 276 columns</p>\n",
       "</div>"
      ],
      "text/plain": [
       "  Id  MSSubClass  LotFrontage   LotArea  OverallQual  OverallCond  YearBuilt  \\\n",
       "0  1    0.067320    -0.202033 -0.217841     0.646073    -0.507197   1.046078   \n",
       "1  2   -0.873466     0.501785 -0.072032    -0.063174     2.187904   0.154737   \n",
       "2  3    0.067320    -0.061269  0.137173     0.646073    -0.507197   0.980053   \n",
       "3  4    0.302516    -0.436639 -0.078371     0.646073    -0.507197  -1.859033   \n",
       "4  5    0.067320     0.689469  0.518814     1.355319    -0.507197   0.947040   \n",
       "\n",
       "   YearRemodAdd  MasVnrArea  BsmtFinSF1          ...            \\\n",
       "0      0.896679    0.528944    0.580807          ...             \n",
       "1     -0.395536   -0.566919    1.177910          ...             \n",
       "2      0.848819    0.338845    0.097856          ...             \n",
       "3     -0.682695   -0.566919   -0.494856          ...             \n",
       "4      0.753100    1.389978    0.468851          ...             \n",
       "\n",
       "   SaleType_ConLw  SaleType_New  SaleType_Oth  SaleType_WD  \\\n",
       "0               0             0             0            1   \n",
       "1               0             0             0            1   \n",
       "2               0             0             0            1   \n",
       "3               0             0             0            1   \n",
       "4               0             0             0            1   \n",
       "\n",
       "   SaleCondition_Abnorml  SaleCondition_AdjLand  SaleCondition_Alloca  \\\n",
       "0                      0                      0                     0   \n",
       "1                      0                      0                     0   \n",
       "2                      0                      0                     0   \n",
       "3                      1                      0                     0   \n",
       "4                      0                      0                     0   \n",
       "\n",
       "   SaleCondition_Family  SaleCondition_Normal  SaleCondition_Partial  \n",
       "0                     0                     1                      0  \n",
       "1                     0                     1                      0  \n",
       "2                     0                     1                      0  \n",
       "3                     0                     0                      0  \n",
       "4                     0                     1                      0  \n",
       "\n",
       "[5 rows x 276 columns]"
      ]
     },
     "execution_count": 24,
     "metadata": {},
     "output_type": "execute_result"
    }
   ],
   "source": [
    "all_dummies_df.head()"
   ]
  },
  {
   "cell_type": "code",
   "execution_count": 25,
   "metadata": {
    "scrolled": true
   },
   "outputs": [],
   "source": [
    "df_train1=all_dummies_df.iloc[:1460,:]     #处理后的训练集(不含Saleprice)"
   ]
  },
  {
   "cell_type": "code",
   "execution_count": 26,
   "metadata": {},
   "outputs": [],
   "source": [
    "df_train_train=df_train1.iloc[0:int(0.8*len(df_train1)),:]  #train中的训练集(不含Saleprice)\n",
    "df_train_test=df_train1.iloc[int(0.8*len(df_train1)):,:]    #train中的测试集(不含Saleprice)"
   ]
  },
  {
   "cell_type": "code",
   "execution_count": 27,
   "metadata": {},
   "outputs": [],
   "source": [
    "df_train_train_y=y_train.iloc[0:int(0.8*len(y_train))]     #train中训练集的target\n",
    "df_train_test_y=y_train.iloc[int(0.8*len(df_train1)):]     #train中测试集的target"
   ]
  },
  {
   "cell_type": "code",
   "execution_count": 68,
   "metadata": {},
   "outputs": [],
   "source": [
    "df_test1=all_dummies_df.iloc[1460:,:]    #处理后的测试集"
   ]
  },
  {
   "cell_type": "code",
   "execution_count": 29,
   "metadata": {},
   "outputs": [
    {
     "data": {
      "text/plain": [
       "(1460, 1460)"
      ]
     },
     "execution_count": 29,
     "metadata": {},
     "output_type": "execute_result"
    }
   ],
   "source": [
    "len(df_train1),len(y_train)"
   ]
  },
  {
   "cell_type": "markdown",
   "metadata": {},
   "source": [
    "# 建模\n",
    "\n",
    "分析，显然是回归问题，解决回归问题的方法：SGD、lasso、岭回归"
   ]
  },
  {
   "cell_type": "markdown",
   "metadata": {},
   "source": [
    "### 1.岭回归\n",
    "这里要用的特征较多，适合岭回归进行建模，把所有特征放进去就行，无需进行特征选取"
   ]
  },
  {
   "cell_type": "code",
   "execution_count": 30,
   "metadata": {},
   "outputs": [],
   "source": [
    "from sklearn.linear_model import Ridge\n",
    "from sklearn.model_selection import cross_val_score"
   ]
  },
  {
   "cell_type": "code",
   "execution_count": 31,
   "metadata": {},
   "outputs": [],
   "source": [
    "alphas=np.logspace(-2,2,50)\n",
    "test_scores1=[]\n",
    "test_scores2=[]\n",
    "for alpha in alphas:\n",
    "    clf=Ridge(alpha)\n",
    "    scores1=np.sqrt(cross_val_score(clf,df_train_train,df_train_train_y,cv=5))\n",
    "    scores2=np.sqrt(cross_val_score(clf,df_train_train,df_train_train_y,cv=10))\n",
    "    test_scores1.append(1-np.mean(scores1))\n",
    "    test_scores2.append(1-np.mean(scores2))"
   ]
  },
  {
   "cell_type": "code",
   "execution_count": 32,
   "metadata": {},
   "outputs": [
    {
     "data": {
      "text/plain": [
       "[<matplotlib.lines.Line2D at 0x1390780d470>]"
      ]
     },
     "execution_count": 32,
     "metadata": {},
     "output_type": "execute_result"
    },
    {
     "data": {
      "image/png": "[encoded data removed]",
      "text/plain": [
       "<matplotlib.figure.Figure at 0x139061bc8d0>"
      ]
     },
     "metadata": {},
     "output_type": "display_data"
    }
   ],
   "source": [
    "%matplotlib inline\n",
    "plt.plot(alphas,test_scores1,color='red')   #交叉验证k为5时，误差最小\n",
    "\n",
    "plt.plot(alphas,test_scores2,color='green')"
   ]
  },
  {
   "cell_type": "markdown",
   "metadata": {},
   "source": [
    ">当alpha在0~10之间时，整体结构风险最小。（猜测可能在alpha=5时最小"
   ]
  },
  {
   "cell_type": "code",
   "execution_count": 33,
   "metadata": {},
   "outputs": [
    {
     "data": {
      "text/plain": [
       "Ridge(alpha=5, copy_X=True, fit_intercept=True, max_iter=None,\n",
       "   normalize=False, random_state=None, solver='auto', tol=0.001)"
      ]
     },
     "execution_count": 33,
     "metadata": {},
     "output_type": "execute_result"
    }
   ],
   "source": [
    "ridge=Ridge(alpha=5)\n",
    "ridge.fit(df_train_train,df_train_train_y)"
   ]
  },
  {
   "cell_type": "code",
   "execution_count": 35,
   "metadata": {
    "collapsed": true
   },
   "outputs": [
    {
     "data": {
      "text/plain": [
       "[201370.8014658473,\n",
       " 474827.1179832233,\n",
       " 130635.73221387347,\n",
       " 168295.32774328237,\n",
       " 160054.8745386327,\n",
       " 266117.81951921154,\n",
       " 228254.50423637335,\n",
       " 315340.8561641162,\n",
       " 116138.41278694436,\n",
       " 105786.76494996434,\n",
       " 133441.8334865771,\n",
       " 88579.00157278741,\n",
       " 242847.5723843106,\n",
       " 299479.9469128229,\n",
       " 486574.96575267846,\n",
       " 150614.96668958056,\n",
       " 205233.45139306478,\n",
       " 119902.30431474706,\n",
       " 57926.489876851876,\n",
       " 274292.3462132267,\n",
       " 183854.66181560274,\n",
       " 192344.04342346435,\n",
       " 198466.26348782313,\n",
       " 177487.75546293517,\n",
       " 129994.30865913411,\n",
       " 159603.49275695445,\n",
       " 156139.04631040964,\n",
       " 167396.5126641174,\n",
       " 233465.0447601403,\n",
       " 149002.91538810582,\n",
       " 177300.568911265,\n",
       " 137697.95346624442,\n",
       " 88360.22515886936,\n",
       " 195630.85014816799,\n",
       " 139329.72888726115,\n",
       " 195376.67508062584,\n",
       " 142884.96328085443,\n",
       " 265719.6546402073,\n",
       " 119424.4734279812,\n",
       " 216033.3537259321,\n",
       " 140871.2553788422,\n",
       " 308893.85127384146,\n",
       " 207467.14688296948,\n",
       " 207672.0313900303,\n",
       " 64332.84698800795,\n",
       " 141967.5980023888,\n",
       " 122398.15033534421,\n",
       " 109602.89397366955,\n",
       " 119827.46510652851,\n",
       " 235682.4239354932,\n",
       " 84811.15271103023,\n",
       " 99425.51469245038,\n",
       " 91179.0041942184,\n",
       " 116783.17079334868,\n",
       " 170544.68121259744,\n",
       " 164837.91087751897,\n",
       " 203308.44498887856,\n",
       " 139450.41203059617,\n",
       " 242243.93598371028,\n",
       " 150154.1936317524,\n",
       " 367984.9329032081,\n",
       " 129690.77112899681,\n",
       " 199659.157035537,\n",
       " 132911.43200062928,\n",
       " 80186.28884086706,\n",
       " 126423.44211224208,\n",
       " 120599.07912303234,\n",
       " 154539.78790602612,\n",
       " 184527.24302157792,\n",
       " 206597.32492115605,\n",
       " 140994.74507739182,\n",
       " 229898.4043493104,\n",
       " 210787.61535719404,\n",
       " 258591.40377726028,\n",
       " 178253.41611670871,\n",
       " 404805.0579451114,\n",
       " 213427.41540240453,\n",
       " 207365.15136477284,\n",
       " 211630.4923998419,\n",
       " 145522.28323119032,\n",
       " 165534.46359243177,\n",
       " 118225.76532236587,\n",
       " 285871.3301005963,\n",
       " 199133.63011316882,\n",
       " 101450.93831442227,\n",
       " 274975.49130617554,\n",
       " 185346.23194758446,\n",
       " 139752.4593867132,\n",
       " 319523.34595658415,\n",
       " 83779.58620261753,\n",
       " 196165.14722124854,\n",
       " 153295.02421386866,\n",
       " 199441.05328732132,\n",
       " 118422.72712242641,\n",
       " 146180.81927146815,\n",
       " 175686.36528308154,\n",
       " 140872.87213299732,\n",
       " 180619.31852342474,\n",
       " 121507.25463514341,\n",
       " 329444.1549320974,\n",
       " 368089.1948950192,\n",
       " 132263.34304829885,\n",
       " 219152.13706781954,\n",
       " 167314.33187428516,\n",
       " 127086.62666803422,\n",
       " 179073.532792095,\n",
       " 157517.74386779257,\n",
       " 166562.8519909167,\n",
       " 153828.77861194542,\n",
       " 196446.91309603275,\n",
       " 229721.01163892698,\n",
       " 72641.14607044648,\n",
       " 207958.0440034176,\n",
       " 199948.31640671653,\n",
       " 155146.21941337833,\n",
       " 141217.34152417688,\n",
       " 195263.23430043983,\n",
       " 139871.1357358465,\n",
       " 154088.78514375706,\n",
       " 184701.12871228834,\n",
       " 261356.66735464177,\n",
       " 314815.46115952474,\n",
       " 148952.51455553254,\n",
       " 122354.49999448167,\n",
       " 125075.36049066702,\n",
       " 189596.07920065036,\n",
       " 114593.76355362433,\n",
       " 121865.26165360275,\n",
       " 147761.24243569555,\n",
       " 146382.6033382004,\n",
       " 745264.8398438918,\n",
       " 170127.62929369503,\n",
       " 240549.60996402794,\n",
       " 166880.39853497845,\n",
       " 305156.42056808225,\n",
       " 236544.17149622407,\n",
       " 141830.72568664575,\n",
       " 340413.74854714924,\n",
       " 210285.19365967007,\n",
       " 137027.99712006972,\n",
       " 160087.16627526583,\n",
       " 181200.24938317577,\n",
       " 292747.9503179638,\n",
       " 216358.69568618198,\n",
       " 342515.0669688701,\n",
       " 326461.7720413307,\n",
       " 101274.84936751788,\n",
       " 208842.6017171185,\n",
       " 300292.4591191772,\n",
       " 209093.6035568743,\n",
       " 261699.43990129855,\n",
       " 84175.84133149838,\n",
       " 183312.1248141069,\n",
       " 74819.54091300203,\n",
       " 248504.13409828642,\n",
       " 107576.59993329915,\n",
       " 300531.10567718616,\n",
       " 80010.67226218505,\n",
       " 79005.64642120317,\n",
       " 132161.0463956172,\n",
       " 238066.5891779915,\n",
       " 184617.08013786547,\n",
       " 243753.48132172367,\n",
       " 126957.17902795962,\n",
       " 100796.73429860732,\n",
       " 133007.9155922372,\n",
       " 115603.95082237152,\n",
       " 170928.0338577103,\n",
       " 126292.02669214146,\n",
       " 57680.63480675117,\n",
       " 225397.9265783728,\n",
       " 120985.32888289164,\n",
       " 107804.86829918195,\n",
       " 158359.4603786354,\n",
       " 232191.89836820323,\n",
       " 189416.45928462356,\n",
       " 199772.04154575153,\n",
       " 88166.15349736017,\n",
       " 255219.32672573568,\n",
       " 293774.0697682385,\n",
       " 245219.9344574075,\n",
       " 157441.28252907976,\n",
       " 205425.24047524354,\n",
       " 171645.8503277677,\n",
       " 150416.51070345307,\n",
       " 370809.12309639284,\n",
       " 223112.10496465742,\n",
       " 187213.41591979674,\n",
       " 91342.14121083976,\n",
       " 167557.4520467293,\n",
       " 167256.26062671863,\n",
       " 356578.7159239095,\n",
       " 207599.4630938971,\n",
       " 292919.52386792726,\n",
       " 105057.36494942075,\n",
       " 181741.63975673847,\n",
       " 138426.0627687245,\n",
       " 218720.14808779885,\n",
       " 196025.06442580814,\n",
       " 127760.00572742875,\n",
       " 132907.1048675385,\n",
       " 239807.57213003997,\n",
       " 124194.43692983717,\n",
       " 191062.9307218344,\n",
       " 254033.0902628583,\n",
       " 457994.9890251289,\n",
       " 238942.1048863621,\n",
       " 244424.6542100319,\n",
       " 81219.45553086934,\n",
       " 130272.18230916515,\n",
       " 99448.77570004106,\n",
       " 153204.26318775,\n",
       " 56262.84962366955,\n",
       " 235473.1459252393,\n",
       " 158651.57087640648,\n",
       " 155692.86540030572,\n",
       " 101942.41573545052,\n",
       " 121359.37687987101,\n",
       " 277068.742653506,\n",
       " 191811.18707434158,\n",
       " 352620.3459727253,\n",
       " 135162.6677032581,\n",
       " 223383.32079799997,\n",
       " 121948.64653263675,\n",
       " 111073.90893386237,\n",
       " 157434.65430004217,\n",
       " 222038.27487059083,\n",
       " 273056.31127229787,\n",
       " 150360.36223534582,\n",
       " 149024.9030420485,\n",
       " 144556.98994363262,\n",
       " 158396.33401711824,\n",
       " 119890.39690467037,\n",
       " 199223.60810150154,\n",
       " 204608.06336771097,\n",
       " 262987.7772720293,\n",
       " 95259.57628577735,\n",
       " 276561.1281634636,\n",
       " 138111.54858543817,\n",
       " 112307.37540208634,\n",
       " 116106.69699359748,\n",
       " 203741.09667168453,\n",
       " 209394.912661714,\n",
       " 153283.379182143,\n",
       " 96317.66567245734,\n",
       " 256625.07787002512,\n",
       " 182750.8926162382,\n",
       " 211442.9857583589,\n",
       " 138557.27716277432,\n",
       " 317934.4023590951,\n",
       " 129082.6045142482,\n",
       " 225220.66656461055,\n",
       " 175763.0914239791,\n",
       " 131148.30281521252,\n",
       " 129295.4249179703,\n",
       " 189809.8510559493,\n",
       " 141148.50448354508,\n",
       " 152153.46638215892,\n",
       " 267787.73494562553,\n",
       " 131951.65630026266,\n",
       " 114624.22821568194,\n",
       " 199059.58928247303,\n",
       " 189433.44258351042,\n",
       " 123908.82060394288,\n",
       " 86022.70655655728,\n",
       " 198491.51424604034,\n",
       " 172742.31648328938,\n",
       " 176775.0509915886,\n",
       " 106640.72279844718,\n",
       " 375594.0889716501,\n",
       " 164357.96298684497,\n",
       " 179035.40735878114,\n",
       " 250771.91067352073,\n",
       " 133033.79854637198,\n",
       " 361806.3029730491,\n",
       " 108961.64794893682,\n",
       " 186896.5448895572,\n",
       " 141235.72494473573,\n",
       " 144239.93391219707,\n",
       " 248681.05501510468,\n",
       " 105199.24702705155,\n",
       " 102280.19043330415,\n",
       " 121676.31297960308,\n",
       " 272479.2198556011,\n",
       " 116539.11342554374,\n",
       " 131387.28981006786,\n",
       " 196346.1593002505,\n",
       " 177612.71777504025,\n",
       " 219240.75199459697,\n",
       " 259409.1804788336,\n",
       " 147297.75054733577,\n",
       " 151418.0222749106]"
      ]
     },
     "execution_count": 35,
     "metadata": {},
     "output_type": "execute_result"
    }
   ],
   "source": [
    "list(ridge.predict(df_train_test))"
   ]
  },
  {
   "cell_type": "code",
   "execution_count": 36,
   "metadata": {},
   "outputs": [
    {
     "data": {
      "text/plain": [
       "1983899445.438339"
      ]
     },
     "execution_count": 36,
     "metadata": {},
     "output_type": "execute_result"
    }
   ],
   "source": [
    "(((df_train_test_y-ridge.predict(df_train_test))**2).sum())/len(df_train_test_y) #用均方误差来判断模型好坏，结果越小越好"
   ]
  },
  {
   "cell_type": "markdown",
   "metadata": {},
   "source": [
    "### 2.随机森林\n",
    "\n",
    ">随机森林也可预测回归，对处理高维度效果较好，不要特征选择"
   ]
  },
  {
   "cell_type": "code",
   "execution_count": 39,
   "metadata": {},
   "outputs": [],
   "source": [
    "#调参\n",
    "from sklearn.ensemble import RandomForestRegressor\n",
    "max_features=[.1,.2,.3,.4,.5,.6,.7,.8,.9]\n",
    "test_score=[]\n",
    "for max_feature in max_features:\n",
    "    clf=RandomForestRegressor(max_features=max_feature,n_estimators=100)\n",
    "    score=np.sqrt(cross_val_score(clf,df_train_train,df_train_train_y,cv=5))\n",
    "    test_score.append(1-np.mean(score))"
   ]
  },
  {
   "cell_type": "code",
   "execution_count": 40,
   "metadata": {},
   "outputs": [
    {
     "data": {
      "text/plain": [
       "[<matplotlib.lines.Line2D at 0x13908b613c8>]"
      ]
     },
     "execution_count": 40,
     "metadata": {},
     "output_type": "execute_result"
    },
    {
     "data": {
      "image/png": "[encoded data removed]",
      "text/plain": [
       "<matplotlib.figure.Figure at 0x139088f54e0>"
      ]
     },
     "metadata": {},
     "output_type": "display_data"
    }
   ],
   "source": [
    "plt.plot(max_features,test_score) #得出误差得分图"
   ]
  },
  {
   "cell_type": "markdown",
   "metadata": {},
   "source": [
    ">通过图可知，当max_features最大特征数为0.5时，误差最小，所以代入max_feature=0.5"
   ]
  },
  {
   "cell_type": "code",
   "execution_count": 43,
   "metadata": {},
   "outputs": [
    {
     "data": {
      "text/plain": [
       "RandomForestRegressor(bootstrap=True, criterion='mse', max_depth=None,\n",
       "           max_features=0.5, max_leaf_nodes=None,\n",
       "           min_impurity_decrease=0.0, min_impurity_split=None,\n",
       "           min_samples_leaf=1, min_samples_split=2,\n",
       "           min_weight_fraction_leaf=0.0, n_estimators=100, n_jobs=1,\n",
       "           oob_score=False, random_state=None, verbose=0, warm_start=False)"
      ]
     },
     "execution_count": 43,
     "metadata": {},
     "output_type": "execute_result"
    }
   ],
   "source": [
    "rf=RandomForestRegressor(max_features=0.5,n_estimators=100)\n",
    "rf.fit(df_train_train,df_train_train_y)"
   ]
  },
  {
   "cell_type": "code",
   "execution_count": 44,
   "metadata": {},
   "outputs": [
    {
     "data": {
      "text/plain": [
       "1108361750.5652797"
      ]
     },
     "execution_count": 44,
     "metadata": {},
     "output_type": "execute_result"
    }
   ],
   "source": [
    "(((df_train_test_y-rf.predict(df_train_test))**2).sum())/len(df_train_test_y) #用均方误差来判断模型好坏，结果越小越好"
   ]
  },
  {
   "cell_type": "markdown",
   "metadata": {},
   "source": [
    "### 集成学习\n",
    ">用Bagging（bootstrap aggregatin）集成框架来对岭回归进行融合计算"
   ]
  },
  {
   "cell_type": "code",
   "execution_count": 46,
   "metadata": {},
   "outputs": [],
   "source": [
    "from sklearn.ensemble import BaggingRegressor"
   ]
  },
  {
   "cell_type": "code",
   "execution_count": 51,
   "metadata": {},
   "outputs": [],
   "source": [
    "#调参，寻找合适模型数量\n",
    "ridge=Ridge(5)\n",
    "params=[10,20,30,40,50,60,70,80,90,100]\n",
    "test_scores=[]\n",
    "for param in params:\n",
    "    clf=BaggingRegressor(n_estimators=param,base_estimator=ridge)\n",
    "    score=np.sqrt(cross_val_score(clf,df_train_train,df_train_train_y,cv=5))\n",
    "    test_scores.append(1-np.mean(score))"
   ]
  },
  {
   "cell_type": "code",
   "execution_count": 52,
   "metadata": {},
   "outputs": [
    {
     "data": {
      "text/plain": [
       "[<matplotlib.lines.Line2D at 0x13908c3a908>]"
      ]
     },
     "execution_count": 52,
     "metadata": {},
     "output_type": "execute_result"
    },
    {
     "data": {
      "image/png": "[encoded data removed]",
      "text/plain": [
       "<matplotlib.figure.Figure at 0x13908afd2e8>"
      ]
     },
     "metadata": {},
     "output_type": "display_data"
    }
   ],
   "source": [
    "plt.plot(params,test_scores)"
   ]
  },
  {
   "cell_type": "markdown",
   "metadata": {},
   "source": [
    ">当训练的模型个数为70时，数据误差最小"
   ]
  },
  {
   "cell_type": "code",
   "execution_count": 53,
   "metadata": {},
   "outputs": [],
   "source": [
    "#调参，寻找合适最大特征数\n",
    "max_features=[.1,.2,.3,.4,.5,.6,.7,.8,.9]\n",
    "test_scores=[]\n",
    "for max_feature in max_features:\n",
    "    clf=BaggingRegressor(n_estimators=70,base_estimator=ridge,max_features=max_feature)\n",
    "    score=np.sqrt(cross_val_score(clf,df_train_train,df_train_train_y,cv=5))\n",
    "    test_scores.append(1-np.mean(score))\n",
    "    "
   ]
  },
  {
   "cell_type": "code",
   "execution_count": 54,
   "metadata": {},
   "outputs": [
    {
     "data": {
      "text/plain": [
       "[<matplotlib.lines.Line2D at 0x1390ba36dd8>]"
      ]
     },
     "execution_count": 54,
     "metadata": {},
     "output_type": "execute_result"
    },
    {
     "data": {
      "image/png": "[encoded data removed]",
      "text/plain": [
       "<matplotlib.figure.Figure at 0x13908c4ef28>"
      ]
     },
     "metadata": {},
     "output_type": "display_data"
    }
   ],
   "source": [
    "plt.plot(max_features,test_scores)"
   ]
  },
  {
   "cell_type": "markdown",
   "metadata": {},
   "source": [
    ">最大特征数为0.6时，误差最小"
   ]
  },
  {
   "cell_type": "code",
   "execution_count": 63,
   "metadata": {},
   "outputs": [
    {
     "data": {
      "text/plain": [
       "BaggingRegressor(base_estimator=Ridge(alpha=5, copy_X=True, fit_intercept=True, max_iter=None,\n",
       "   normalize=False, random_state=None, solver='auto', tol=0.001),\n",
       "         bootstrap=True, bootstrap_features=False, max_features=0.6,\n",
       "         max_samples=1.0, n_estimators=70, n_jobs=1, oob_score=False,\n",
       "         random_state=None, verbose=0, warm_start=False)"
      ]
     },
     "execution_count": 63,
     "metadata": {},
     "output_type": "execute_result"
    }
   ],
   "source": [
    "Bagging=BaggingRegressor(n_estimators=70,base_estimator=ridge,max_features=0.6)\n",
    "Bagging.fit(df_train_train,df_train_train_y)"
   ]
  },
  {
   "cell_type": "code",
   "execution_count": 64,
   "metadata": {},
   "outputs": [
    {
     "data": {
      "text/plain": [
       "1960180964.6378567"
      ]
     },
     "execution_count": 64,
     "metadata": {},
     "output_type": "execute_result"
    }
   ],
   "source": [
    "(((df_train_test_y-Bagging.predict(df_train_test))**2).sum())/len(df_train_test_y) #用均方误差来判断模型好坏，结果越小越好"
   ]
  },
  {
   "cell_type": "markdown",
   "metadata": {},
   "source": [
    "# 结果：\n",
    "\n",
    ">### 分析结果：三个结果，取均方误差最小的*随机森林*算法"
   ]
  },
  {
   "cell_type": "code",
   "execution_count": 67,
   "metadata": {},
   "outputs": [],
   "source": [
    "#用训练好的rf来预测数据\n",
    "rf_percent=rf.predict(df_test1)"
   ]
  },
  {
   "cell_type": "code",
   "execution_count": 71,
   "metadata": {},
   "outputs": [],
   "source": [
    "result_rf=pd.DataFrame({'Id':df_test1['Id'],'SalePrice':rf_percent})\n",
    "result_rf.to_csv('result_rf.csv',index=False)"
   ]
  },
  {
   "cell_type": "code",
   "execution_count": null,
   "metadata": {},
   "outputs": [],
   "source": []
  }
 ],
 "metadata": {
  "kernelspec": {
   "display_name": "Python 3",
   "language": "python",
   "name": "python3"
  },
  "language_info": {
   "codemirror_mode": {
    "name": "ipython",
    "version": 3
   },
   "file_extension": ".py",
   "mimetype": "text/x-python",
   "name": "python",
   "nbconvert_exporter": "python",
   "pygments_lexer": "ipython3",
   "version": "3.6.4"
  }
 },
 "nbformat": 4,
 "nbformat_minor": 2
}
